{
 "cells": [
  {
   "cell_type": "code",
   "execution_count": null,
   "id": "01603bac",
   "metadata": {},
   "outputs": [],
   "source": [
    "#Only needs to run once per machine\n",
    "%pip install rlcard\n",
    "%pip install torch==2.0.0 --user\n",
    "%pip install rlcard[torch]\n",
    "%pip install tensorflow\n",
    "%pip install tf-agents[reverb]"
   ]
  },
  {
   "cell_type": "code",
   "execution_count": 1,
   "id": "2e9be4de",
   "metadata": {},
   "outputs": [],
   "source": [
    "%run backend.ipynb"
   ]
  },
  {
   "cell_type": "code",
   "execution_count": 2,
   "id": "da55c3c4",
   "metadata": {},
   "outputs": [
    {
     "name": "stdout",
     "output_type": "stream",
     "text": [
      ">> UNO rule model V1\n",
      ">> Start a new game\n",
      "{'hand': ['r-7', 'y-9', 'y-3', 'g-draw_2', 'r-9', 'y-2', 'y-wild_draw_4'], 'target': 'y-4', 'played_cards': ['y-4'], 'legal_actions': ['y-9', 'y-3', 'y-2'], 'num_cards': [7, 7], 'num_players': 2, 'current_player': 0}\n",
      "\n",
      "=============== Player 1 ===============\n",
      "\u001b[31m7\u001b[0m, \u001b[33m9\u001b[0m, \u001b[33m3\u001b[0m, \u001b[32mDraw-2\u001b[0m, \u001b[31m9\u001b[0m, \u001b[33m2\u001b[0m, Wild-Draw-4\n",
      "=============== Table Card ===============\n",
      "\u001b[33m4\u001b[0m\n",
      "========== Players Card Number ===========\n",
      "Player 2 has 7 cards.\n",
      "======== Actions You Can Choose =========\n",
      "0: \u001b[33m9\u001b[0m, 1: \u001b[33m3\u001b[0m, 2: \u001b[33m2\u001b[0m\n",
      "\n",
      "{'hand': ['y-9', 'y-6', 'r-5', 'y-4', 'g-1', 'b-reverse', 'b-4'], 'target': 'y-2', 'played_cards': ['y-4', 'y-2'], 'legal_actions': ['y-9', 'y-6', 'y-4'], 'num_cards': [6, 7], 'num_players': 2, 'current_player': 1}\n",
      ">> Player 1 chooses \u001b[33m2\u001b[0m\n",
      "\n",
      "=============== Player 2 ===============\n",
      "\u001b[33m9\u001b[0m, \u001b[33m6\u001b[0m, \u001b[31m5\u001b[0m, \u001b[33m4\u001b[0m, \u001b[32m1\u001b[0m, \u001b[34mReverse\u001b[0m, \u001b[34m4\u001b[0m\n",
      "=============== Table Card ===============\n",
      "\u001b[33m2\u001b[0m\n",
      "========== Players Card Number ===========\n",
      "Player 1 has 6 cards.\n",
      "======== Actions You Can Choose =========\n",
      "0: \u001b[33m9\u001b[0m, 1: \u001b[33m6\u001b[0m, 2: \u001b[33m4\u001b[0m\n",
      "\n",
      "{'hand': ['r-7', 'y-9', 'y-3', 'g-draw_2', 'r-9', 'y-wild_draw_4'], 'target': 'y-9', 'played_cards': ['y-4', 'y-2', 'y-9'], 'legal_actions': ['y-9', 'y-3', 'r-9'], 'num_cards': [6, 6], 'num_players': 2, 'current_player': 0}\n",
      ">> Player 2 chooses \u001b[33m9\u001b[0m\n",
      "\n",
      "=============== Player 1 ===============\n",
      "\u001b[31m7\u001b[0m, \u001b[33m9\u001b[0m, \u001b[33m3\u001b[0m, \u001b[32mDraw-2\u001b[0m, \u001b[31m9\u001b[0m, Wild-Draw-4\n",
      "=============== Table Card ===============\n",
      "\u001b[33m9\u001b[0m\n",
      "========== Players Card Number ===========\n",
      "Player 2 has 6 cards.\n",
      "======== Actions You Can Choose =========\n",
      "0: \u001b[33m9\u001b[0m, 1: \u001b[33m3\u001b[0m, 2: \u001b[31m9\u001b[0m\n",
      "\n",
      "{'hand': ['y-6', 'r-5', 'y-4', 'g-1', 'b-reverse', 'b-4'], 'target': 'r-9', 'played_cards': ['y-4', 'y-2', 'y-9', 'r-9'], 'legal_actions': ['r-5'], 'num_cards': [5, 6], 'num_players': 2, 'current_player': 1}\n",
      ">> Player 1 chooses \u001b[31m9\u001b[0m\n",
      "\n",
      "=============== Player 2 ===============\n",
      "\u001b[33m6\u001b[0m, \u001b[31m5\u001b[0m, \u001b[33m4\u001b[0m, \u001b[32m1\u001b[0m, \u001b[34mReverse\u001b[0m, \u001b[34m4\u001b[0m\n",
      "=============== Table Card ===============\n",
      "\u001b[31m9\u001b[0m\n",
      "========== Players Card Number ===========\n",
      "Player 1 has 5 cards.\n",
      "======== Actions You Can Choose =========\n",
      "0: \u001b[31m5\u001b[0m\n",
      "\n",
      "{'hand': ['r-7', 'y-9', 'y-3', 'g-draw_2', 'y-wild_draw_4'], 'target': 'r-5', 'played_cards': ['y-4', 'y-2', 'y-9', 'r-9', 'r-5'], 'legal_actions': ['r-7'], 'num_cards': [5, 5], 'num_players': 2, 'current_player': 0}\n",
      ">> Player 2 chooses \u001b[31m5\u001b[0m\n",
      "\n",
      "=============== Player 1 ===============\n",
      "\u001b[31m7\u001b[0m, \u001b[33m9\u001b[0m, \u001b[33m3\u001b[0m, \u001b[32mDraw-2\u001b[0m, Wild-Draw-4\n",
      "=============== Table Card ===============\n",
      "\u001b[31m5\u001b[0m\n",
      "========== Players Card Number ===========\n",
      "Player 2 has 5 cards.\n",
      "======== Actions You Can Choose =========\n",
      "0: \u001b[31m7\u001b[0m\n",
      "\n"
     ]
    },
    {
     "ename": "KeyboardInterrupt",
     "evalue": "",
     "output_type": "error",
     "traceback": [
      "\u001b[1;31m---------------------------------------------------------------------------\u001b[0m",
      "\u001b[1;31mKeyboardInterrupt\u001b[0m                         Traceback (most recent call last)",
      "Cell \u001b[1;32mIn[2], line 10\u001b[0m\n\u001b[0;32m      1\u001b[0m \u001b[38;5;124;03m'''\u001b[39;00m\n\u001b[0;32m      2\u001b[0m \u001b[38;5;124;03mpossible agent options: [\"human\", \"random\", \"custom_agent\", \"dqn\"]\u001b[39;00m\n\u001b[0;32m      3\u001b[0m \u001b[38;5;124;03m    human - You control one player\u001b[39;00m\n\u001b[1;32m   (...)\u001b[0m\n\u001b[0;32m      6\u001b[0m \u001b[38;5;124;03m    dqn - Deep Q network, if using set train parameter to true EX: run_game(agents, True)\u001b[39;00m\n\u001b[0;32m      7\u001b[0m \u001b[38;5;124;03m'''\u001b[39;00m\n\u001b[0;32m      9\u001b[0m agents \u001b[38;5;241m=\u001b[39m [\u001b[38;5;124m\"\u001b[39m\u001b[38;5;124mrandom\u001b[39m\u001b[38;5;124m\"\u001b[39m, \u001b[38;5;124m\"\u001b[39m\u001b[38;5;124mrandom\u001b[39m\u001b[38;5;124m\"\u001b[39m]\n\u001b[1;32m---> 10\u001b[0m \u001b[43mrun_game\u001b[49m\u001b[43m(\u001b[49m\u001b[43magents\u001b[49m\u001b[43m)\u001b[49m\n",
      "File \u001b[1;32m~\\AppData\\Local\\Temp\\ipykernel_21464\\1670828953.py:29\u001b[0m, in \u001b[0;36mrun_game\u001b[1;34m(agents, train)\u001b[0m\n\u001b[0;32m     27\u001b[0m \u001b[38;5;28;01mwhile\u001b[39;00m \u001b[38;5;129;01mnot\u001b[39;00m env\u001b[38;5;241m.\u001b[39mis_over():\n\u001b[0;32m     28\u001b[0m     print_state(state[\u001b[38;5;124m'\u001b[39m\u001b[38;5;124mraw_obs\u001b[39m\u001b[38;5;124m'\u001b[39m],state[\u001b[38;5;124m'\u001b[39m\u001b[38;5;124maction_record\u001b[39m\u001b[38;5;124m'\u001b[39m])\n\u001b[1;32m---> 29\u001b[0m     \u001b[43mtime\u001b[49m\u001b[38;5;241;43m.\u001b[39;49m\u001b[43msleep\u001b[49m\u001b[43m(\u001b[49m\u001b[38;5;241;43m1\u001b[39;49m\u001b[43m)\u001b[49m\n\u001b[0;32m     30\u001b[0m     action, _ \u001b[38;5;241m=\u001b[39m env\u001b[38;5;241m.\u001b[39magents[player_id]\u001b[38;5;241m.\u001b[39meval_step(state)\n\u001b[0;32m     31\u001b[0m     \u001b[38;5;66;03m# Environment steps\u001b[39;00m\n",
      "\u001b[1;31mKeyboardInterrupt\u001b[0m: "
     ]
    }
   ],
   "source": [
    "'''\n",
    "possible agent options: [\"human\", \"random\", \"custom_agent\", \"dqn\"]\n",
    "    human - You control one player\n",
    "    random - agent picks legal moves at random\n",
    "    custom_agent - your uno agent (default picks cards at random prioritizing matching color)\n",
    "    dqn - Deep Q network, if using set train parameter to true EX: run_game(agents, True)\n",
    "'''\n",
    "\n",
    "agents = [\"random\", \"random\"]\n",
    "run_game(agents)"
   ]
  },
  {
   "cell_type": "code",
   "execution_count": null,
   "id": "12fc04cd",
   "metadata": {},
   "outputs": [],
   "source": []
  }
 ],
 "metadata": {
  "kernelspec": {
   "display_name": "Python 3 (ipykernel)",
   "language": "python",
   "name": "python3"
  },
  "language_info": {
   "codemirror_mode": {
    "name": "ipython",
    "version": 3
   },
   "file_extension": ".py",
   "mimetype": "text/x-python",
   "name": "python",
   "nbconvert_exporter": "python",
   "pygments_lexer": "ipython3",
   "version": "3.10.9"
  }
 },
 "nbformat": 4,
 "nbformat_minor": 5
}
